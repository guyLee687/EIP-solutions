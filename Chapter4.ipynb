{
 "cells": [
  {
   "cell_type": "markdown",
   "metadata": {},
   "source": []
  },
  {
   "cell_type": "markdown",
   "metadata": {},
   "source": [
    "### 4.1 Computing the parity of a Word\n",
    "\n",
    "How would you compute the parity of a very large number of 64-bit words?\n",
    "\n",
    "Parity of binary words is when the number of 1s is odd, and otherwise 0. \n",
    "ex. 1011 is 1 \n",
    "ex.  1001 is 0"
   ]
  },
  {
   "cell_type": "code",
   "execution_count": 3,
   "metadata": {},
   "outputs": [
    {
     "name": "stdout",
     "output_type": "stream",
     "text": [
      "0\n",
      "1\n"
     ]
    }
   ],
   "source": [
    "# The following is the my own attempt at the solution\n",
    "def parity(x):\n",
    "  '''Computes the the parity of a very large x'''\n",
    "  count = 0\n",
    "  while x != 0:\n",
    "    count += x & 1\n",
    "    x >>= 1\n",
    "  if (count % 2 == 0):\n",
    "    return 0\n",
    "  return 1\n",
    "\n",
    "\"\"\"-----Tests--------\"\"\"\n",
    "print(parity(0b011))  # 0\n",
    "print(parity(0b111))  # 1"
   ]
  },
  {
   "cell_type": "markdown",
   "metadata": {},
   "source": [
    "#### Solutions:\n",
    "---\n",
    "##### Brute Force:\n",
    "Iteratively tests each bit. Can store the number mod 2 with `^=`\n",
    "Time complexity is `O(n)` where n is size of word. \n",
    "```python\n",
    "  def parity(x):\n",
    "    result = 0\n",
    "    while x:\n",
    "      result ^= x & 1\n",
    "      x >>= l\n",
    "    return result\n",
    "```\n",
    "\n",
    "##### Bit-fiddling Trick \n",
    "This trick involves iteratively counting the 1s by deleting the next lowest 1 bit \n",
    "\n",
    "**Note: `x&(x-1)` equals x with the lowest set bit erased**\n",
    "This improves the *best* and *average* runtime to `O(k)` where k = number of 1s.\n",
    "\n",
    "\n",
    "**Note: `x&~(x-1)` isolates the lowest bit**\n",
    "```python\n",
    "  def parity(x):\n",
    "    result = 0\n",
    "    while x:\n",
    "      result ^= 1\n",
    "      x &= x - 1 # Drops the -lowest set bit of x\n",
    "    return result\n",
    "```\n",
    "##### Hasing Results\n",
    "We can hash a smaller subset of word sizes on what the parity is and compute parites of multiple bits \n",
    "at a time. An instance of this would be to use 4 references to 16bit words to compute the parity of \n",
    "a 64 bit hash. We use a *mask_size* and a *bit_mask* to find the hash-key. \n",
    "\n",
    "This improves the time complexity to `O(n/L)` where\n",
    "- *n* is the width of the word \n",
    "- *L* is the width of the cache\n",
    "```python\n",
    "def parity(x):\n",
    "  MASK-SIZE = 16\n",
    "  BIT-SIZE = 0xFFFF\n",
    "  return (PRECOMPUTED_PARITY[x >> (3 * MASK-SIZE)] ^\n",
    "          PRECOMPUTED_PARITY[(x >> (2 * MASK-SIZE)) & BIT_MASK] ^\n",
    "          PRECOMPUTED_PARITY[(x >> MASK-SIZE) & BIT_MASK] ^ \n",
    "          PRECOMPUTED_PARITY[x & BIT_MASK])\n",
    "```\n",
    "\n",
    "##### XOR\n",
    "**Note that the XOR between two words has the same parity.**\n",
    "This improves the runtime to `O(log n)`\n",
    "```python\n",
    "def parity(x):\n",
    "  x ^= x >> 32\n",
    "  x ^= x >> 16\n",
    "  x ^= x >> 8\n",
    "  x ^= x >> 4\n",
    "  x ^= x >> 2\n",
    "  x ^= x >> 1\n",
    "  return x & 0x1\n",
    "```"
   ]
  },
  {
   "cell_type": "markdown",
   "metadata": {},
   "source": [
    "#### 4.2 Swap Bits\n",
    "\n",
    "Implement code that takes as input a 64-bit integer and swaps the bits at indices i and j \n"
   ]
  },
  {
   "cell_type": "code",
   "execution_count": 4,
   "metadata": {},
   "outputs": [
    {
     "name": "stdout",
     "output_type": "stream",
     "text": [
      "0b1100\n"
     ]
    }
   ],
   "source": [
    "# Attempt\n",
    "def swap(x, i, j):\n",
    "  '''(binary, num, num) => binary\n",
    "      x = binary word that needs swaping \n",
    "      i = index 1 \n",
    "      j = index 2 \n",
    "  '''\n",
    "  BIT_MASK1 = 0x1 << i\n",
    "  BIT_MASK2 = 0x1 << j\n",
    "  if (x & BIT_MASK1 == x & BIT_MASK2):\n",
    "    return x\n",
    "  # XOR swaps bits (0 ^ 1 = 1  1 ^ 1 = 0)\n",
    "  return x ^ (BIT_MASK1 | BIT_MASK2)\n",
    "\n",
    "print(bin(swap(0b01010, 1, 2))) # 0b1100\n",
    "\n",
    "# The runtime is O(1)"
   ]
  },
  {
   "cell_type": "markdown",
   "metadata": {},
   "source": [
    "#### 4.3 Reverse Bits\n",
    "\n",
    "Write a program that takes 64 bit unsigned bits and returns the integers consisting of the bits in reverse order"
   ]
  },
  {
   "cell_type": "code",
   "execution_count": 5,
   "metadata": {},
   "outputs": [
    {
     "name": "stdout",
     "output_type": "stream",
     "text": [
      "0b111001\n"
     ]
    }
   ],
   "source": [
    "# Attempted solution\n",
    "def reverse(x):\n",
    "  '''Returns bits in reverse'''\n",
    "  new_x = 0\n",
    "  while x != 0:\n",
    "    new_x <<= 1\n",
    "    new_x |= (x & 1)\n",
    "    x >>= 1\n",
    "  return new_x\n",
    "\n",
    "# Brute force solution takes O(n) time\n",
    "\n",
    "print(bin(reverse(0b100111))) # 0b111001\n"
   ]
  },
  {
   "cell_type": "markdown",
   "metadata": {},
   "source": [
    "#### Solutions:\n",
    "---\n",
    "##### Lookup Table:\n",
    "Similar to question 4.3 we can create a lookup table where `x = y3, y2, y1, y0 => y0, y1, y2, y3` and\n",
    "`y_n` can be found through a lookup table. Time complexity is `O(n/L)`. \n",
    "Note that `PRECOMPUTED_REVERSE` is the lookup table of size `2^16`\n",
    "```python\n",
    "def reverse-bits (x) :\n",
    "  MASK_SIZE = 16\n",
    "  BIT_SIZE = 0xFFFF\n",
    "return (PRECOMPUTED_REVERSE[x & BIT_MASK] << (3 * MASK_SIZE) |\n",
    "        PRECOMPUTED_REVERSE[(x >> MASK_SIZE) & BIT_MASK] <<\n",
    "        (2 * MASK_SIZE) |\n",
    "        PRECOMPUTED_REVERSE [(X >> (2 * MASK_SIZE)) & BIT_MASK] << MASK_SIZE |\n",
    "        PRECOMPUTED_REVERSE[(x >> (3 * MASK_SIZE)) & BIT_MASK)\n",
    "```"
   ]
  },
  {
   "cell_type": "markdown",
   "metadata": {},
   "source": [
    "#### 4.4 Find a Closest Integer with the same Weight\n",
    "\n",
    "The weight of a nonnegative integer `x` is the number of bits in its binary representation that is equal to 1\n",
    "\n",
    "Write a program which takes as input a nonnegative integer x and returns a number `y` which is not\n",
    "equal to `x`, but has the same weight as `x` and their difference, `| y - x |`,\n",
    "is as small as possible. You can assume `x` is not 0, or all 1s. For example, \n",
    "if `x = 6`, you should return 5. You can assume the integer fits in 64 bits."
   ]
  },
  {
   "cell_type": "code",
   "execution_count": 6,
   "metadata": {},
   "outputs": [
    {
     "name": "stdout",
     "output_type": "stream",
     "text": [
      "5\n"
     ]
    }
   ],
   "source": [
    "def closest_weight(x):\n",
    "  y = ~x        #invert x \n",
    "  first_zero = y & ~(y - 1) #position of first 0\n",
    "  first_one = x & ~(x - 1) #position of first 1\n",
    "  return x ^ (first_one | first_zero);\n",
    "\n",
    "# Time complexity = O(1)\n",
    "# tests \n",
    "print(closest_weight(6))   # 5"
   ]
  },
  {
   "cell_type": "markdown",
   "metadata": {},
   "source": [
    "#### Solutions:\n",
    "---\n",
    "##### Heuristic approach:\n",
    "Note that we simply want to reduce the distance in which bits are swap. Bits have to be swap in order to preserve the weights \n",
    "The following solution is similar to my attempt but has a worst case of `O(n)`\n",
    "```python\n",
    "def closest_int_sane_bit_count (x) :\n",
    "  NUll_UNSIGNED_BITS = 64\n",
    "  for i in range(NUM_UNSIGNED_BITS - 1):\n",
    "    if (x >> i) & 1 != (x >> (i + 1)) & 1:\n",
    "      x ^= (1 << i) | (1 << (i + 1)) # Swaps bit-i and bit-(i + 1)\n",
    "      return x\n",
    "# Raise error if all bits of x are 0 or 1\n",
    "raise ValueError('A1l bits are 0 or 1')\n",
    "```"
   ]
  },
  {
   "cell_type": "markdown",
   "metadata": {},
   "source": [
    "#### 4.5 Comput X * Y without arithmetical operators \n",
    "\n",
    "Write a program to multiple two nonnegative integers with only bitwise operators "
   ]
  },
  {
   "cell_type": "code",
   "execution_count": 7,
   "metadata": {},
   "outputs": [
    {
     "name": "stdout",
     "output_type": "stream",
     "text": [
      "4\n",
      "32\n",
      "64\n",
      "0\n"
     ]
    }
   ],
   "source": [
    "#attempt\n",
    "def add(x,y):\n",
    "  carry_in = 0\n",
    "  carry_out = 0\n",
    "  binSum = 0\n",
    "  count = 0\n",
    "  while (x or y or carry_out):\n",
    "    lsb1 = x & 1\n",
    "    lsb2 = y & 1\n",
    "    carry_out = (lsb1 & lsb2) | (lsb1 & carry_in) | (lsb2 & carry_in)\n",
    "    binSum |= ((carry_in ^ lsb1) ^ lsb2) << count \n",
    "    x >>= 1\n",
    "    y >>= 1\n",
    "    carry_in = carry_out \n",
    "    count += 1\n",
    "  return binSum\n",
    "def multiply(x, y):\n",
    "  binSum = 0\n",
    "  for i in range(y): \n",
    "    binSum = add(x, binSum)\n",
    "  return binSum\n",
    "\n",
    "print(multiply(2, 2))\n",
    "print(multiply(2, 16))\n",
    "print(multiply(2, 32))\n",
    "print(multiply(0, 2))\n",
    "    \n",
    "# The following algorithm has a time complexity of O(2^n) which is a brute force solution where n is the lenght of the input bit"
   ]
  },
  {
   "cell_type": "markdown",
   "metadata": {},
   "source": [
    "#### Solutions:\n",
    "---\n",
    "##### Shift and Add:\n",
    "Note that we do not need to do repeated addition but instead multiply by each bit and shift by `2^k` and then add. \n",
    "This reduces the time complexity to `O(n^2)`\n",
    "```python\n",
    "def multiply(x, y): \n",
    "    def add(a, b): \n",
    "        # Note k is our mask\n",
    "        running_sum, carryin, k, temp_a, temp_b = 0, 0, 1, a, b\n",
    "        while temp_a or temp_b: \n",
    "            ak, bk = a & k, b & k \n",
    "            carryout = (ak & bk) | (ak & carryin) | (bk & carryin)\n",
    "            running_sum |= ak ^ bk ^ carryin\n",
    "            carryin, k, temp_a, temp_b = (carryout << 1, k << 1, temp_a << 1,\n",
    "                                            temp_b >> 1)\n",
    "        return running_sum | carryin\n",
    "   \n",
    "    running_sum = 0\n",
    "    while x: # Examines each bit of x.\n",
    "        if x & 1: \n",
    "            running_sum = add(running_sum, y)\n",
    "        x, y = x >> 1, y << 1\n",
    "```"
   ]
  },
  {
   "cell_type": "markdown",
   "metadata": {},
   "source": [
    "#### 4.7 Comput X ^ Y  \n",
    "\n",
    "Write a program that takes a double x and an integer y and retums x/. You can ignore overflow and underflow."
   ]
  },
  {
   "cell_type": "code",
   "execution_count": 8,
   "metadata": {},
   "outputs": [
    {
     "name": "stdout",
     "output_type": "stream",
     "text": [
      "1\n",
      "32\n",
      "1\n"
     ]
    }
   ],
   "source": [
    "# Attempt \n",
    "\n",
    "def exp(b, x):\n",
    "    if(x == 0):\n",
    "        return 1\n",
    "    if(x == 1):\n",
    "        return b\n",
    "    return exp(b, x//2) * exp(b, (x-x//2))\n",
    "\n",
    "# tests \n",
    "print(exp(2, 0))\n",
    "print(exp(2, 5))\n",
    "print(exp(1, 4))\n",
    "\n",
    "# The runtime complexity of the following attempt is O(2^n) where n \n",
    "# is the size of x and everything else is constant \n",
    "\n",
    "# Brute force example"
   ]
  },
  {
   "cell_type": "markdown",
   "metadata": {},
   "source": [
    "#### Solutions:\n",
    "---\n",
    "##### Recursive interation:\n",
    "The books example instead of using divide operations uses bits on y in order \n",
    "to create a recursive solutions. Observe the following property: \n",
    "`x, x^2, (x^2)^2 = x^4, (x^4)^2 = x^8`\n",
    " \n",
    "In bit notation this is as follows:\n",
    "\n",
    "`x^(1010)_2 = x^(101)_2 * x^(101)_2`\n",
    "\n",
    "or \n",
    "\n",
    "`x^(101)_2 = x^(10)_2 * x\n",
    "\n",
    "The solution is as follows\n",
    "\n",
    "```python\n",
    "def power(x,y):\n",
    "    result, power = 1.0, y\n",
    "    if y < 0: \n",
    "        power, x = -power, 1.0 / x\n",
    "    while power:\n",
    "        if power & 1:\n",
    "            result *= x \n",
    "        x, power = x * x, power >> 1\n",
    "    return result\n",
    "```\n",
    "\n",
    "The time complexity given all else constant is at most twice the index of y's\n",
    "MSB which is `O(n)`\n"
   ]
  },
  {
   "cell_type": "markdown",
   "metadata": {},
   "source": [
    "#### 4.8 Reverse Digits\n",
    "\n",
    "Write a program which takes an integer and returns the integer corresponding\n",
    "to the input written in the reverse order.\n"
   ]
  },
  {
   "cell_type": "code",
   "execution_count": 9,
   "metadata": {},
   "outputs": [
    {
     "name": "stdout",
     "output_type": "stream",
     "text": [
      "24\n",
      "-413\n",
      "0\n"
     ]
    }
   ],
   "source": [
    "# Attempt \n",
    "\n",
    "def reverse(x):\n",
    "    digitStr = str(abs(x))\n",
    "    digitStr = digitStr[::-1]\n",
    "    if (x < 1):\n",
    "        return -(int(digitStr))\n",
    "    return int(digitStr)\n",
    "\n",
    "# tests \n",
    "print(reverse(42))\n",
    "print(reverse(-314))\n",
    "print(reverse(0))\n",
    "\n",
    "# The runtime complexity of this algorithm is O(1) assuming everything is constant\n",
    "# It is also O(n) if we factor in the cost of reversing the str"
   ]
  },
  {
   "cell_type": "markdown",
   "metadata": {},
   "source": [
    "#### Solutions:\n",
    "---\n",
    "##### Store the module of 10:\n",
    "The solution of the book highlights that we do not need to do it in a brute \n",
    "force fashion of converting int to a string but instead use %10. \n",
    "The time complexity of the following is `O(n)` where n is the number of digits\n",
    "```python\n",
    "def reverse(x): \n",
    "    result, x_remaining = 0, abs(x)\n",
    "    while x_remaining:\n",
    "        result = result * 10 + x_remaining % 10\n",
    "        x_remaining //= 10\n",
    "    return -result if x < 0 else result\n",
    "```"
   ]
  },
  {
   "cell_type": "markdown",
   "metadata": {},
   "source": [
    "#### 4.11 Rectangle Intersection\n",
    "\n",
    "This problem is concerted with rectangles whose sides are parallel to the x and y-axis \n",
    "\n",
    "Write a program which tests if two rectangles have a nonempty intersection.\n",
    "If non,empty, return the rectangle formed by their intersection."
   ]
  },
  {
   "cell_type": "code",
   "execution_count": 10,
   "metadata": {},
   "outputs": [
    {
     "name": "stdout",
     "output_type": "stream",
     "text": [
      "False False False True\n",
      "None\n",
      "False True True True\n",
      "(2, 2, 1, 4)\n"
     ]
    }
   ],
   "source": [
    "# Attempt \n",
    "\n",
    "def rectIntersection(R1, R2):\n",
    "    flag1 = (R1['x'] >= R2['x'] and R1['x'] <= (R2['x'] + R2['width'])) \n",
    "    flag2 = (R2['x'] >= R1['x'] and R2['x'] <= (R1['x'] + R1['width']))\n",
    "    flag3 = (R1['y'] >= R2['y'] and R1['y'] <= (R2['y'] + R2['height']))  \n",
    "    flag4 = (R2['y'] >= R1['y'] and R2['y'] <= (R2['y'] + R2['height']))\n",
    "    print(flag1, flag2, flag3, flag4)\n",
    "    if (not((flag1 or flag2) and (flag3 or flag4))):\n",
    "        return None\n",
    "    x, width = (R1['x'], (R2['x'] + R1['width'] - R1['x'])) if (flag1) else (R2['x'], (R1['x'] + R2['width'] - R2['x']))\n",
    "    y, height = (R1['y'], (R2['y'] + R1['height'] - R1['y'])) if (flag3) else (R2['y'], (R1['y'] + R2['height'] - R2['y']))\n",
    "    return (x, y, width, height)\n",
    "\n",
    "# tests\n",
    "dict1 = {'x': 1,'y': 2,'width': 3,'height': 4}\n",
    "dict2 = {'x': 5, 'y': 3, 'width': 2, 'height': 4}\n",
    "dict3 = {'x': 2, 'y': 2, 'width': 2, 'height': 4}\n",
    "print(rectIntersection(dict1, dict2)) # None\n",
    "print(rectIntersection(dict1, dict3)) # None"
   ]
  },
  {
   "cell_type": "markdown",
   "metadata": {},
   "source": [
    "##### Solutions \n",
    "---\n",
    "##### General Approach \n",
    "The highlighted solution is simply to observe the cases in which there are no \n",
    "intersections This is by checking the dimensions in which the inclusive ranges \n",
    "do not intersect. \n",
    "\n",
    "Also not that the intersection creates a rectangle where the included points are the min of origin point, and the max of width and height \n",
    "\n",
    "```python\n",
    "# Useful library for creating object tuples\n",
    "Rectangle = collections.namedtuple('Rectangle', ('x', 'y', 'width', 'height'))\n",
    "\n",
    "def intersect_rectangle(R1, R2):\n",
    "    def is_intersect(R1, R2):\n",
    "        return (R1.x <= R2.x + R2.width and R1.x + R1.width >= R2.x\n",
    "                and R1.y <= R2.height and R1.y + R1.height >= R2.y)\n",
    "    \n",
    "    if not is_intersect(R1, R2):\n",
    "        return Rectangle(0, 0, -1, -1) # No intersection\n",
    "    return Rectangle(\n",
    "        max(R1.x, R2.x), \n",
    "        max(R1.y, R2.y),\n",
    "        min(R1.x + R1.width, R2.x + R2.width) - max(R1.x, R2.x),\n",
    "        min(R1.y, + R1.height, R2.y + R2.height) - max(R1.y, R2.y))\n",
    "```\n",
    "\n",
    "The runtime for the following equation is `O(1)`"
   ]
  }
 ],
 "metadata": {
  "interpreter": {
   "hash": "0874d831ccf2cfc4e3880dfdd149a2ed713aec5b71b61cb27ae8b8748a924740"
  },
  "kernelspec": {
   "display_name": "Python 3.9.9 64-bit (windows store)",
   "language": "python",
   "name": "python3"
  },
  "language_info": {
   "codemirror_mode": {
    "name": "ipython",
    "version": 3
   },
   "file_extension": ".py",
   "mimetype": "text/x-python",
   "name": "python",
   "nbconvert_exporter": "python",
   "pygments_lexer": "ipython3",
   "version": "3.9.9"
  },
  "orig_nbformat": 4
 },
 "nbformat": 4,
 "nbformat_minor": 2
}
